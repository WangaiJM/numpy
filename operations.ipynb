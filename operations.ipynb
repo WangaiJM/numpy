{
 "cells": [
  {
   "cell_type": "code",
   "execution_count": 4,
   "id": "ca8a38d5",
   "metadata": {
    "scrolled": true
   },
   "outputs": [
    {
     "name": "stdout",
     "output_type": "stream",
     "text": [
      "1\n",
      "(2,)\n",
      "2\n",
      "int32\n"
     ]
    }
   ],
   "source": [
    "import numpy as np\n",
    "a = np.array([3,1])\n",
    "print(a.ndim)\n",
    "print(a.shape)\n",
    "print(a.size)\n",
    "print(a.dtype)"
   ]
  },
  {
   "cell_type": "code",
   "execution_count": 5,
   "id": "5b1867ff",
   "metadata": {},
   "outputs": [
    {
     "name": "stdout",
     "output_type": "stream",
     "text": [
      "(1, 2)\n"
     ]
    }
   ],
   "source": [
    "b = np.array([[3,1]])\n",
    "print(b.shape)"
   ]
  },
  {
   "cell_type": "code",
   "execution_count": 24,
   "id": "fccfb048",
   "metadata": {},
   "outputs": [
    {
     "name": "stdout",
     "output_type": "stream",
     "text": [
      "(2, 3)\n"
     ]
    }
   ],
   "source": [
    "arr = np.array([[2,3,1], [5,3,4]])\n",
    "print(arr.shape)"
   ]
  },
  {
   "cell_type": "code",
   "execution_count": 8,
   "id": "4e627136",
   "metadata": {},
   "outputs": [
    {
     "name": "stdout",
     "output_type": "stream",
     "text": [
      "[[2 3]\n",
      " [1 5]\n",
      " [6 4]]\n",
      "(3, 2)\n"
     ]
    }
   ],
   "source": [
    "arr = arr.reshape(3,2)\n",
    "print(arr)\n",
    "print(arr.shape)"
   ]
  },
  {
   "cell_type": "code",
   "execution_count": 26,
   "id": "7be92ecd",
   "metadata": {},
   "outputs": [
    {
     "name": "stdout",
     "output_type": "stream",
     "text": [
      "[[2 3 1]\n",
      " [5 3 4]]\n",
      "3\n"
     ]
    }
   ],
   "source": [
    "arr = arr.reshape(2,3)\n",
    "print(arr)\n",
    "print(arr[1][1])"
   ]
  },
  {
   "cell_type": "code",
   "execution_count": 17,
   "id": "3f1e8d07",
   "metadata": {},
   "outputs": [
    {
     "name": "stdout",
     "output_type": "stream",
     "text": [
      "[6 4]\n"
     ]
    }
   ],
   "source": [
    "print(arr[1, 1:])"
   ]
  },
  {
   "cell_type": "code",
   "execution_count": 18,
   "id": "68203e18",
   "metadata": {},
   "outputs": [
    {
     "name": "stdout",
     "output_type": "stream",
     "text": [
      "[2 1]\n"
     ]
    }
   ],
   "source": [
    "print(arr[arr < 3])"
   ]
  },
  {
   "cell_type": "code",
   "execution_count": 19,
   "id": "3b56b1b2",
   "metadata": {},
   "outputs": [
    {
     "name": "stdout",
     "output_type": "stream",
     "text": [
      "[3 5 6 4]\n"
     ]
    }
   ],
   "source": [
    "print(arr[arr>2])"
   ]
  },
  {
   "cell_type": "code",
   "execution_count": 31,
   "id": "bacd1e8e",
   "metadata": {},
   "outputs": [
    {
     "name": "stdout",
     "output_type": "stream",
     "text": [
      "(array([0, 0, 0, 1], dtype=int64), array([0, 1, 2, 1], dtype=int64))\n"
     ]
    }
   ],
   "source": [
    "l4 = np.nonzero(arr < 4)\n",
    "print(l4)"
   ]
  },
  {
   "cell_type": "code",
   "execution_count": 28,
   "id": "077f8274",
   "metadata": {},
   "outputs": [
    {
     "name": "stdout",
     "output_type": "stream",
     "text": [
      "(array([], dtype=int64), array([], dtype=int64))\n"
     ]
    }
   ],
   "source": [
    "print(np.nonzero(arr > 10))"
   ]
  },
  {
   "cell_type": "code",
   "execution_count": 32,
   "id": "b583f265",
   "metadata": {},
   "outputs": [
    {
     "name": "stdout",
     "output_type": "stream",
     "text": [
      "[(0, 0), (0, 1), (0, 2), (1, 1)]\n"
     ]
    }
   ],
   "source": [
    "list_of_coordinates = list(zip(l4[0], l4[1])) \n",
    "print(list_of_coordinates)"
   ]
  },
  {
   "cell_type": "code",
   "execution_count": 36,
   "id": "0989d8af",
   "metadata": {},
   "outputs": [
    {
     "name": "stdout",
     "output_type": "stream",
     "text": [
      "((0, 0), (0, 1), (0, 2), (1, 1))\n"
     ]
    }
   ],
   "source": [
    "print(tuple(zip(l4[0], l4[1])))"
   ]
  }
 ],
 "metadata": {
  "kernelspec": {
   "display_name": "Python 3 (ipykernel)",
   "language": "python",
   "name": "python3"
  },
  "language_info": {
   "codemirror_mode": {
    "name": "ipython",
    "version": 3
   },
   "file_extension": ".py",
   "mimetype": "text/x-python",
   "name": "python",
   "nbconvert_exporter": "python",
   "pygments_lexer": "ipython3",
   "version": "3.10.0"
  }
 },
 "nbformat": 4,
 "nbformat_minor": 5
}

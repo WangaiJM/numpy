{
 "cells": [
  {
   "cell_type": "code",
   "execution_count": 1,
   "id": "ca8f4c4c",
   "metadata": {},
   "outputs": [
    {
     "name": "stdout",
     "output_type": "stream",
     "text": [
      "[4 6]\n"
     ]
    }
   ],
   "source": [
    "import numpy as np\n",
    "x = np.array([1,2])\n",
    "y = np.array([3,4])\n",
    "print(x+y)"
   ]
  },
  {
   "cell_type": "code",
   "execution_count": 3,
   "id": "781693fa",
   "metadata": {},
   "outputs": [
    {
     "name": "stdout",
     "output_type": "stream",
     "text": [
      "(2,)\n"
     ]
    }
   ],
   "source": [
    "print(x.shape)"
   ]
  },
  {
   "cell_type": "code",
   "execution_count": 4,
   "id": "3cba79a4",
   "metadata": {},
   "outputs": [
    {
     "name": "stdout",
     "output_type": "stream",
     "text": [
      "[[4 6]]\n"
     ]
    }
   ],
   "source": [
    "x = x.reshape(1,2)\n",
    "y = y.reshape(1,2)\n",
    "print(x+y)"
   ]
  },
  {
   "cell_type": "code",
   "execution_count": 5,
   "id": "b66a78d3",
   "metadata": {},
   "outputs": [
    {
     "name": "stdout",
     "output_type": "stream",
     "text": [
      "[[3 8]]\n"
     ]
    }
   ],
   "source": [
    "print(x * y)"
   ]
  },
  {
   "cell_type": "code",
   "execution_count": 8,
   "id": "84f679ca",
   "metadata": {},
   "outputs": [
    {
     "name": "stdout",
     "output_type": "stream",
     "text": [
      "[1 2]\n",
      "[[3 4]]\n",
      "[[3 8]]\n",
      "[[3 8]]\n"
     ]
    }
   ],
   "source": [
    "x = x.reshape(2,)\n",
    "print(x)\n",
    "print(y)\n",
    "print(x * y)\n",
    "print(y * x)"
   ]
  },
  {
   "cell_type": "code",
   "execution_count": 14,
   "id": "c61418e2",
   "metadata": {},
   "outputs": [
    {
     "name": "stdout",
     "output_type": "stream",
     "text": [
      "[[1 2]\n",
      " [3 4]]\n"
     ]
    }
   ],
   "source": [
    "a  = np.array([[1,2], [3,4]])\n",
    "print(a)"
   ]
  },
  {
   "cell_type": "code",
   "execution_count": 15,
   "id": "6190efff",
   "metadata": {},
   "outputs": [
    {
     "name": "stdout",
     "output_type": "stream",
     "text": [
      "3\n"
     ]
    }
   ],
   "source": [
    "print(a[1,0])"
   ]
  },
  {
   "cell_type": "code",
   "execution_count": 31,
   "id": "b7429c5c",
   "metadata": {},
   "outputs": [],
   "source": [
    "b = np.array([[4,5], [6,7]])"
   ]
  },
  {
   "cell_type": "code",
   "execution_count": 17,
   "id": "aaaf3d5a",
   "metadata": {},
   "outputs": [
    {
     "name": "stdout",
     "output_type": "stream",
     "text": [
      "[[ 5  7]\n",
      " [ 9 11]]\n"
     ]
    }
   ],
   "source": [
    "print(a+b)"
   ]
  },
  {
   "cell_type": "code",
   "execution_count": 18,
   "id": "d1fba3fa",
   "metadata": {},
   "outputs": [
    {
     "name": "stdout",
     "output_type": "stream",
     "text": [
      "[[ 4 10]\n",
      " [18 28]]\n"
     ]
    }
   ],
   "source": [
    "print(a * b)"
   ]
  },
  {
   "cell_type": "code",
   "execution_count": 19,
   "id": "2d75eaf5",
   "metadata": {},
   "outputs": [
    {
     "name": "stdout",
     "output_type": "stream",
     "text": [
      "[[ 2.  5.]\n",
      " [ 9. 14.]]\n"
     ]
    }
   ],
   "source": [
    "# scalar multiplication AKA broadcasting\n",
    "c = a * b\n",
    "print(0.5 * c)"
   ]
  },
  {
   "cell_type": "code",
   "execution_count": 20,
   "id": "424af59f",
   "metadata": {},
   "outputs": [
    {
     "name": "stdout",
     "output_type": "stream",
     "text": [
      "[[ 3  6]\n",
      " [ 9 12]]\n"
     ]
    }
   ],
   "source": [
    "print(3 * a)"
   ]
  },
  {
   "cell_type": "code",
   "execution_count": 36,
   "id": "fafdfd0a",
   "metadata": {},
   "outputs": [
    {
     "name": "stdout",
     "output_type": "stream",
     "text": [
      "10\n",
      "The sum of elements in B is:  22\n",
      "the smallest element in B is:  4\n",
      "the largest element in B is:  7\n"
     ]
    }
   ],
   "source": [
    "# max,min, sum\n",
    "print(a.sum())\n",
    "print(\"The sum of elements in B is: \", b.sum())\n",
    "print(\"the smallest element in B is: \", b.min())\n",
    "print(\"the largest element in B is: \", b.max())"
   ]
  },
  {
   "cell_type": "code",
   "execution_count": 37,
   "id": "d52c5a61",
   "metadata": {},
   "outputs": [
    {
     "name": "stdout",
     "output_type": "stream",
     "text": [
      "[18 28]\n"
     ]
    }
   ],
   "source": [
    "print(c.max(axis=0))"
   ]
  },
  {
   "cell_type": "code",
   "execution_count": 39,
   "id": "bbd7689a",
   "metadata": {},
   "outputs": [
    {
     "name": "stdout",
     "output_type": "stream",
     "text": [
      "[10 28]\n"
     ]
    }
   ],
   "source": [
    "print(c.max(axis=1))"
   ]
  },
  {
   "cell_type": "code",
   "execution_count": 40,
   "id": "04b1a0e6",
   "metadata": {},
   "outputs": [
    {
     "name": "stdout",
     "output_type": "stream",
     "text": [
      "[22 38]\n"
     ]
    }
   ],
   "source": [
    "print(c.sum(axis=0))"
   ]
  }
 ],
 "metadata": {
  "kernelspec": {
   "display_name": "Python 3 (ipykernel)",
   "language": "python",
   "name": "python3"
  },
  "language_info": {
   "codemirror_mode": {
    "name": "ipython",
    "version": 3
   },
   "file_extension": ".py",
   "mimetype": "text/x-python",
   "name": "python",
   "nbconvert_exporter": "python",
   "pygments_lexer": "ipython3",
   "version": "3.10.0"
  }
 },
 "nbformat": 4,
 "nbformat_minor": 5
}
